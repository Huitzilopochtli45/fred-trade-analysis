{
 "cells": [
  {
   "cell_type": "code",
   "execution_count": 1,
   "id": "940a4730",
   "metadata": {},
   "outputs": [
    {
     "name": "stdout",
     "output_type": "stream",
     "text": [
      "=== Divergence Summary Statistics ===\n",
      "count    78.000000\n",
      "mean      1.167509\n",
      "std       1.041204\n",
      "min      -2.056967\n",
      "25%       0.622289\n",
      "50%       1.055544\n",
      "75%       1.734037\n",
      "max       4.792115\n",
      "Name: Divergence_%, dtype: float64\n",
      "\n",
      "=== Top 10 Divergence Periods ===\n",
      "         Date  Nominal_GDP  Real_GDP  Divergence_%\n",
      "3  1950-01-01     2458.532  2346.104      4.792115\n",
      "31 1978-01-01     7052.711  6796.260      3.773414\n",
      "36 1983-01-01     7642.266  7400.066      3.272944\n",
      "14 1961-01-01     3590.066  3493.703      2.758191\n",
      "18 1965-01-01     4478.555  4362.111      2.669441\n",
      "25 1972-01-01     5780.048  5632.649      2.616868\n",
      "4  1951-01-01     2656.320  2593.967      2.403770\n",
      "30 1977-01-01     6682.804  6527.703      2.376043\n",
      "11 1958-01-01     3191.216  3120.724      2.258835\n",
      "16 1963-01-01     3976.142  3893.482      2.123035\n",
      "\n",
      "=== Lowest 10 Divergence Periods ===\n",
      "         Date  Nominal_GDP   Real_GDP  Divergence_%\n",
      "73 2020-01-01    20267.585  20693.238     -2.056967\n",
      "33 1980-01-01     7257.316   7341.557     -1.147454\n",
      "13 1960-01-01     3500.272   3517.181     -0.480754\n",
      "27 1974-01-01     6073.363   6097.258     -0.391897\n",
      "61 2008-01-01    16781.485  16843.003     -0.365244\n",
      "34 1981-01-01     7441.485   7459.022     -0.235111\n",
      "6  1953-01-01     2894.411   2896.811     -0.082850\n",
      "2  1949-01-01     2261.928   2260.807      0.049584\n",
      "10 1957-01-01     3215.065   3213.011      0.063928\n",
      "43 1990-01-01    10055.129  10047.386      0.077065\n"
     ]
    }
   ],
   "source": [
    "import pandas as pd\n",
    "\n",
    "# Load the datasets with absolute paths\n",
    "gdpca_df = pd.read_csv(r\"C:\\Users\\troyr\\OneDrive - Self Taught LLC\\PythonDev\\03-projects\\fred-trade-analysis\\data\\GDPCA.csv\")\n",
    "gdpc1_df = pd.read_csv(r\"C:\\Users\\troyr\\OneDrive - Self Taught LLC\\PythonDev\\03-projects\\fred-trade-analysis\\data\\GDPC1.csv\")\n",
    "\n",
    "# Convert date columns\n",
    "gdpca_df['Date'] = pd.to_datetime(gdpca_df['Date'])\n",
    "gdpc1_df['Date'] = pd.to_datetime(gdpc1_df['Date'])\n",
    "\n",
    "# Merge and compute divergence\n",
    "merged_df = pd.merge(gdpca_df, gdpc1_df, on='Date', how='inner')\n",
    "merged_df.columns = ['Date', 'Nominal_GDP', 'Real_GDP']\n",
    "merged_df['Divergence_%'] = ((merged_df['Nominal_GDP'] - merged_df['Real_GDP']) / merged_df['Real_GDP']) * 100\n",
    "\n",
    "# Summarize\n",
    "divergence_stats = merged_df['Divergence_%'].describe()\n",
    "top_divergence = merged_df.sort_values(by='Divergence_%', ascending=False).head(10)\n",
    "lowest_divergence = merged_df.sort_values(by='Divergence_%').head(10)\n",
    "\n",
    "# Output\n",
    "print(\"=== Divergence Summary Statistics ===\")\n",
    "print(divergence_stats)\n",
    "print(\"\\n=== Top 10 Divergence Periods ===\")\n",
    "print(top_divergence)\n",
    "print(\"\\n=== Lowest 10 Divergence Periods ===\")\n",
    "print(lowest_divergence)\n"
   ]
  }
 ],
 "metadata": {
  "kernelspec": {
   "display_name": "fred-trade",
   "language": "python",
   "name": "python3"
  },
  "language_info": {
   "codemirror_mode": {
    "name": "ipython",
    "version": 3
   },
   "file_extension": ".py",
   "mimetype": "text/x-python",
   "name": "python",
   "nbconvert_exporter": "python",
   "pygments_lexer": "ipython3",
   "version": "3.11.11"
  }
 },
 "nbformat": 4,
 "nbformat_minor": 5
}
