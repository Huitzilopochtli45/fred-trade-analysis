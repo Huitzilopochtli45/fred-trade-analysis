{
 "cells": [
  {
   "cell_type": "markdown",
   "id": "ae9fb714",
   "metadata": {},
   "source": [
    "# Real-Economy Data Fetcher\n",
    "---------------------------"
   ]
  },
  {
   "cell_type": "code",
   "execution_count": 2,
   "id": "9b2d312b",
   "metadata": {},
   "outputs": [
    {
     "name": "stdout",
     "output_type": "stream",
     "text": [
      "📥 Fetching: Real GDP (GDPC1)\n",
      "        Date  Real GDP\n",
      "0 1972-04-01  5760.470\n",
      "1 1972-07-01  5814.854\n",
      "2 1972-10-01  5912.220\n",
      "3 1973-01-01  6058.544\n",
      "4 1973-04-01  6124.506\n",
      "5 1973-07-01  6092.301\n",
      "6 1973-10-01  6150.131\n",
      "7 1974-01-01  6097.258\n",
      "📥 Fetching: Nominal GDP (GDP)\n",
      "        Date  Nominal GDP\n",
      "0 1972-04-01     1266.369\n",
      "1 1972-07-01     1290.566\n",
      "2 1972-10-01     1328.904\n",
      "3 1973-01-01     1377.490\n",
      "4 1973-04-01     1413.887\n",
      "5 1973-07-01     1433.838\n",
      "6 1973-10-01     1476.289\n",
      "7 1974-01-01     1491.209\n",
      "📥 Fetching: Nominal Gross National Product (GNP)\n",
      "        Date  Nominal Gross National Product\n",
      "0 1972-04-01                        1274.485\n",
      "1 1972-07-01                        1299.485\n",
      "2 1972-10-01                        1337.927\n",
      "3 1973-01-01                        1388.160\n",
      "4 1973-04-01                        1425.513\n",
      "5 1973-07-01                        1447.715\n",
      "6 1973-10-01                        1490.591\n",
      "7 1974-01-01                        1508.276\n",
      "📥 Fetching: Industrial Production Index (INDPRO)\n"
     ]
    },
    {
     "name": "stderr",
     "output_type": "stream",
     "text": [
      "C:\\Users\\troyr\\AppData\\Local\\Temp\\ipykernel_4752\\606885162.py:33: FutureWarning: 'Q-DEC' is deprecated and will be removed in a future version, please use 'QE-DEC' instead.\n",
      "  df = df.set_index('Date').resample('Q-DEC').mean().reset_index()\n"
     ]
    },
    {
     "name": "stdout",
     "output_type": "stream",
     "text": [
      "        Date  Industrial Production Index\n",
      "0 1972-03-31                    40.437567\n",
      "1 1972-06-30                    41.204167\n",
      "2 1972-09-30                    41.724233\n",
      "3 1972-12-31                    43.169167\n",
      "4 1973-03-31                    44.406000\n",
      "5 1973-06-30                    44.782467\n",
      "6 1973-09-30                    45.162400\n",
      "7 1973-12-31                    45.842067\n",
      "📥 Fetching: Manufacturing Production Index (IPMAN)\n",
      "        Date  Manufacturing Production Index\n",
      "0 1972-03-31                       36.200233\n",
      "1 1972-06-30                       36.947967\n",
      "2 1972-09-30                       37.455467\n",
      "3 1972-12-31                       38.881800\n",
      "4 1973-03-31                       40.166400\n",
      "5 1973-06-30                       40.549400\n",
      "6 1973-09-30                       40.872767\n",
      "7 1973-12-31                       41.661867\n"
     ]
    },
    {
     "name": "stderr",
     "output_type": "stream",
     "text": [
      "C:\\Users\\troyr\\AppData\\Local\\Temp\\ipykernel_4752\\606885162.py:33: FutureWarning: 'Q-DEC' is deprecated and will be removed in a future version, please use 'QE-DEC' instead.\n",
      "  df = df.set_index('Date').resample('Q-DEC').mean().reset_index()\n"
     ]
    }
   ],
   "source": [
    "# Real Economy Data Fetcher\n",
    "# This script fetches real economy data from the FRED API, processes it, and saves it to CSV files.\n",
    "import pandas as pd\n",
    "from fredapi import Fred\n",
    "import os\n",
    "\n",
    "# Initialize FRED API\n",
    "fred = Fred(api_key=\"306a3b46d80923127981cdabb3c9691f\")\n",
    "\n",
    "# Real Economy Series\n",
    "real_economy_series = {\n",
    "    \"GDPC1\": \"Real GDP\",\n",
    "    \"GDP\": \"Nominal GDP\",\n",
    "    \"GNP\": \"Nominal Gross National Product\",\n",
    "    \"INDPRO\": \"Industrial Production Index\",\n",
    "    \"IPMAN\": \"Manufacturing Production Index\"\n",
    "}\n",
    "\n",
    "# Output folder\n",
    "output_dir = r\"C:\\Users\\troyr\\OneDrive - Self Taught LLC\\PythonDev\\03-projects\\fred-trade-analysis\\data\\raw\\real-economy\"\n",
    "os.makedirs(output_dir, exist_ok=True)\n",
    "\n",
    "# Pull, resample if needed, trim and save\n",
    "for code, label in real_economy_series.items():\n",
    "    print(f\"📥 Fetching: {label} ({code})\")\n",
    "    series = fred.get_series(code)\n",
    "    df = series.reset_index()\n",
    "    df.columns = ['Date', label]\n",
    "    df['Date'] = pd.to_datetime(df['Date'])\n",
    "\n",
    "    # Resample to quarterly if not already\n",
    "    if df['Date'].dt.freq is None or df.shape[0] > 500:\n",
    "        df = df.set_index('Date').resample('Q-DEC').mean().reset_index()\n",
    "\n",
    "    df = df[df['Date'] >= pd.to_datetime(\"1972-03-31\")].reset_index(drop=True)\n",
    "\n",
    "    file_path = os.path.join(output_dir, f\"{code}.csv\")\n",
    "    df.to_csv(file_path, index=False)\n",
    "    print(df.head(8))\n"
   ]
  },
  {
   "cell_type": "markdown",
   "id": "9e694b4c",
   "metadata": {},
   "source": [
    "# Labor & Inflation Data Fetcher\n",
    "--------------------------------"
   ]
  },
  {
   "cell_type": "code",
   "execution_count": null,
   "id": "76ff5cdc",
   "metadata": {},
   "outputs": [
    {
     "name": "stdout",
     "output_type": "stream",
     "text": [
      "📥 Fetching: Unemployment Rate (UNRATE)\n"
     ]
    },
    {
     "name": "stderr",
     "output_type": "stream",
     "text": [
      "C:\\Users\\troyr\\AppData\\Local\\Temp\\ipykernel_4752\\3485963397.py:29: FutureWarning: 'Q-DEC' is deprecated and will be removed in a future version, please use 'QE-DEC' instead.\n",
      "  df = df.set_index('Date').resample('Q-DEC').mean().reset_index()\n"
     ]
    },
    {
     "name": "stdout",
     "output_type": "stream",
     "text": [
      "        Date  Unemployment Rate\n",
      "0 1972-03-31           5.766667\n",
      "1 1972-06-30           5.700000\n",
      "2 1972-09-30           5.566667\n",
      "3 1972-12-31           5.366667\n",
      "4 1973-03-31           4.933333\n",
      "5 1973-06-30           4.933333\n",
      "6 1973-09-30           4.800000\n",
      "7 1973-12-31           4.766667\n",
      "8 1974-03-31           5.133333\n",
      "9 1974-06-30           5.200000\n",
      "📥 Fetching: Labor Force Participation Rate (CIVPART)\n"
     ]
    },
    {
     "name": "stderr",
     "output_type": "stream",
     "text": [
      "C:\\Users\\troyr\\AppData\\Local\\Temp\\ipykernel_4752\\3485963397.py:29: FutureWarning: 'Q-DEC' is deprecated and will be removed in a future version, please use 'QE-DEC' instead.\n",
      "  df = df.set_index('Date').resample('Q-DEC').mean().reset_index()\n"
     ]
    },
    {
     "name": "stdout",
     "output_type": "stream",
     "text": [
      "        Date  Labor Force Participation Rate\n",
      "0 1972-03-31                       60.300000\n",
      "1 1972-06-30                       60.400000\n",
      "2 1972-09-30                       60.466667\n",
      "3 1972-12-31                       60.366667\n",
      "4 1973-03-31                       60.433333\n",
      "5 1973-06-30                       60.766667\n",
      "6 1973-09-30                       60.800000\n",
      "7 1973-12-31                       61.100000\n",
      "8 1974-03-31                       61.333333\n",
      "9 1974-06-30                       61.166667\n",
      "📥 Fetching: Consumer Price Index (All Urban Consumers) (CPIAUCSL)\n"
     ]
    },
    {
     "name": "stderr",
     "output_type": "stream",
     "text": [
      "C:\\Users\\troyr\\AppData\\Local\\Temp\\ipykernel_4752\\3485963397.py:29: FutureWarning: 'Q-DEC' is deprecated and will be removed in a future version, please use 'QE-DEC' instead.\n",
      "  df = df.set_index('Date').resample('Q-DEC').mean().reset_index()\n"
     ]
    },
    {
     "name": "stdout",
     "output_type": "stream",
     "text": [
      "        Date  Consumer Price Index (All Urban Consumers)\n",
      "0 1972-03-31                                   41.333333\n",
      "1 1972-06-30                                   41.600000\n",
      "2 1972-09-30                                   41.933333\n",
      "3 1972-12-31                                   42.366667\n",
      "4 1973-03-31                                   43.033333\n",
      "5 1973-06-30                                   43.933333\n",
      "6 1973-09-30                                   44.800000\n",
      "7 1973-12-31                                   45.933333\n",
      "8 1974-03-31                                   47.300000\n",
      "9 1974-06-30                                   48.566667\n",
      "📥 Fetching: PCE Price Index (PCEPI)\n",
      "        Date  PCE Price Index\n",
      "0 1972-03-31        21.080333\n",
      "1 1972-06-30        21.202000\n",
      "2 1972-09-30        21.388333\n",
      "3 1972-12-31        21.562667\n",
      "4 1973-03-31        21.822667\n",
      "5 1973-06-30        22.242000\n",
      "6 1973-09-30        22.646667\n",
      "7 1973-12-31        23.110667\n",
      "8 1974-03-31        23.797667\n",
      "9 1974-06-30        24.471667\n"
     ]
    },
    {
     "name": "stderr",
     "output_type": "stream",
     "text": [
      "C:\\Users\\troyr\\AppData\\Local\\Temp\\ipykernel_4752\\3485963397.py:29: FutureWarning: 'Q-DEC' is deprecated and will be removed in a future version, please use 'QE-DEC' instead.\n",
      "  df = df.set_index('Date').resample('Q-DEC').mean().reset_index()\n"
     ]
    }
   ],
   "source": [
    "# Labor and Inflation Data Fetcher\n",
    "import pandas as pd\n",
    "from fredapi import Fred\n",
    "import os\n",
    "\n",
    "# Initialize FRED API\n",
    "fred = Fred(api_key=\"306a3b46d80923127981cdabb3c9691f\")\n",
    "\n",
    "# Labor and inflation FRED series\n",
    "labor_inflation_series = {\n",
    "    \"UNRATE\": \"Unemployment Rate\",\n",
    "    \"CIVPART\": \"Labor Force Participation Rate\",\n",
    "    \"CPIAUCSL\": \"Consumer Price Index (All Urban Consumers)\",\n",
    "    \"PCEPI\": \"PCE Price Index\"\n",
    "}\n",
    "\n",
    "# Output directory\n",
    "output_dir = r\"C:\\Users\\troyr\\OneDrive - Self Taught LLC\\PythonDev\\03-projects\\fred-trade-analysis\\data\\raw\\labor-inflation\"\n",
    "os.makedirs(output_dir, exist_ok=True)\n",
    "\n",
    "# Fetch, resample, trim, and save\n",
    "for code, label in labor_inflation_series.items():\n",
    "    print(f\"📥 Fetching: {label} ({code})\")\n",
    "    series = fred.get_series(code)\n",
    "    df = series.reset_index()\n",
    "    df.columns = ['Date', label]\n",
    "    df['Date'] = pd.to_datetime(df['Date'])\n",
    "\n",
    "    if df['Date'].dt.freq is None or df.shape[0] > 500:\n",
    "        df = df.set_index('Date').resample('Q-DEC').mean().reset_index()\n",
    "\n",
    "    df = df[df['Date'] >= pd.to_datetime(\"1972-03-31\")].reset_index(drop=True)\n",
    "\n",
    "    # Save to file\n",
    "    file_path = os.path.join(output_dir, f\"{code}.csv\")\n",
    "    df.to_csv(file_path, index=False)\n",
    "\n",
    "    # Preview\n",
    "    print(df.head(10))\n"
   ]
  },
  {
   "cell_type": "markdown",
   "id": "4382551f",
   "metadata": {},
   "source": [
    "# Consumption & Savings Data Fetcher\n",
    "---"
   ]
  },
  {
   "cell_type": "code",
   "execution_count": 4,
   "id": "75da70b1",
   "metadata": {},
   "outputs": [
    {
     "name": "stdout",
     "output_type": "stream",
     "text": [
      "📥 Fetching: Real Personal Consumption Expenditures (PCECC96)\n",
      "        Date  Real Personal Consumption Expenditures\n",
      "0 1972-04-01                                3572.842\n",
      "1 1972-07-01                                3627.904\n",
      "2 1972-10-01                                3713.038\n",
      "3 1973-01-01                                3780.829\n",
      "4 1973-04-01                                3779.125\n",
      "5 1973-07-01                                3792.426\n",
      "6 1973-10-01                                3781.115\n",
      "7 1974-01-01                                3747.286\n",
      "8 1974-04-01                                3760.779\n",
      "9 1974-07-01                                3776.934\n",
      "📥 Fetching: Nominal Personal Consumption Expenditures (PCEC)\n",
      "        Date  Nominal Personal Consumption Expenditures\n",
      "0 1972-04-01                                    757.364\n",
      "1 1972-07-01                                    775.799\n",
      "2 1972-10-01                                    800.502\n",
      "3 1973-01-01                                    825.007\n",
      "4 1973-04-01                                    840.527\n",
      "5 1973-07-01                                    858.877\n",
      "6 1973-10-01                                    873.887\n",
      "7 1974-01-01                                    891.868\n",
      "8 1974-04-01                                    920.422\n",
      "9 1974-07-01                                    949.276\n",
      "📥 Fetching: Personal Savings Rate (PSAVERT)\n"
     ]
    },
    {
     "name": "stderr",
     "output_type": "stream",
     "text": [
      "C:\\Users\\troyr\\AppData\\Local\\Temp\\ipykernel_4752\\1574342939.py:30: FutureWarning: 'Q-DEC' is deprecated and will be removed in a future version, please use 'QE-DEC' instead.\n",
      "  df = df.set_index('Date').resample('Q-DEC').mean().reset_index()\n"
     ]
    },
    {
     "name": "stdout",
     "output_type": "stream",
     "text": [
      "        Date  Personal Savings Rate\n",
      "0 1972-03-31              12.366667\n",
      "1 1972-06-30              11.633333\n",
      "2 1972-09-30              11.966667\n",
      "3 1972-12-31              13.433333\n",
      "4 1973-03-31              12.533333\n",
      "5 1973-06-30              13.333333\n",
      "6 1973-09-30              13.400000\n",
      "7 1973-12-31              14.533333\n",
      "8 1974-03-31              13.966667\n",
      "9 1974-06-30              12.900000\n",
      "📥 Fetching: Real Disposable Personal Income (DSPIC96)\n",
      "        Date  Real Disposable Personal Income\n",
      "0 1972-03-31                      4112.533333\n",
      "1 1972-06-30                      4155.233333\n",
      "2 1972-09-30                      4236.000000\n",
      "3 1972-12-31                      4405.800000\n",
      "4 1973-03-31                      4439.200000\n",
      "5 1973-06-30                      4476.666667\n",
      "6 1973-09-30                      4496.900000\n",
      "7 1973-12-31                      4546.066667\n",
      "8 1974-03-31                      4470.833333\n",
      "9 1974-06-30                      4429.133333\n"
     ]
    },
    {
     "name": "stderr",
     "output_type": "stream",
     "text": [
      "C:\\Users\\troyr\\AppData\\Local\\Temp\\ipykernel_4752\\1574342939.py:30: FutureWarning: 'Q-DEC' is deprecated and will be removed in a future version, please use 'QE-DEC' instead.\n",
      "  df = df.set_index('Date').resample('Q-DEC').mean().reset_index()\n"
     ]
    }
   ],
   "source": [
    "# Consumption and Savings Data Fetcher\n",
    "import pandas as pd\n",
    "from fredapi import Fred\n",
    "import os\n",
    "\n",
    "# Initialize FRED API\n",
    "fred = Fred(api_key=\"306a3b46d80923127981cdabb3c9691f\")\n",
    "\n",
    "# Define the series\n",
    "consumption_savings_series = {\n",
    "    \"PCECC96\": \"Real Personal Consumption Expenditures\",\n",
    "    \"PCEC\": \"Nominal Personal Consumption Expenditures\",\n",
    "    \"PSAVERT\": \"Personal Savings Rate\",\n",
    "    \"DSPIC96\": \"Real Disposable Personal Income\"\n",
    "}\n",
    "\n",
    "# Output directory\n",
    "output_dir = r\"C:\\Users\\troyr\\OneDrive - Self Taught LLC\\PythonDev\\03-projects\\fred-trade-analysis\\data\\raw\\consumption-savings\"\n",
    "os.makedirs(output_dir, exist_ok=True)\n",
    "\n",
    "# Pull, resample, and save\n",
    "for code, label in consumption_savings_series.items():\n",
    "    print(f\"📥 Fetching: {label} ({code})\")\n",
    "    series = fred.get_series(code)\n",
    "    df = series.reset_index()\n",
    "    df.columns = ['Date', label]\n",
    "    df['Date'] = pd.to_datetime(df['Date'])\n",
    "\n",
    "    if df['Date'].dt.freq is None or df.shape[0] > 500:\n",
    "        df = df.set_index('Date').resample('Q-DEC').mean().reset_index()\n",
    "\n",
    "    df = df[df['Date'] >= pd.to_datetime(\"1972-03-31\")].reset_index(drop=True)\n",
    "\n",
    "    file_path = os.path.join(output_dir, f\"{code}.csv\")\n",
    "    df.to_csv(file_path, index=False)\n",
    "\n",
    "    print(df.head(10))\n"
   ]
  }
 ],
 "metadata": {
  "kernelspec": {
   "display_name": "fred-trade",
   "language": "python",
   "name": "python3"
  },
  "language_info": {
   "codemirror_mode": {
    "name": "ipython",
    "version": 3
   },
   "file_extension": ".py",
   "mimetype": "text/x-python",
   "name": "python",
   "nbconvert_exporter": "python",
   "pygments_lexer": "ipython3",
   "version": "3.11.11"
  }
 },
 "nbformat": 4,
 "nbformat_minor": 5
}
