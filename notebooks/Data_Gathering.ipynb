{
 "cells": [
  {
   "cell_type": "code",
   "execution_count": 1,
   "id": "9b2d312b",
   "metadata": {},
   "outputs": [
    {
     "name": "stdout",
     "output_type": "stream",
     "text": [
      "📥 Fetching: Real GDP (GDPC1)\n",
      "        Date  Real GDP\n",
      "0 1972-04-01  5760.470\n",
      "1 1972-07-01  5814.854\n",
      "2 1972-10-01  5912.220\n",
      "3 1973-01-01  6058.544\n",
      "4 1973-04-01  6124.506\n",
      "5 1973-07-01  6092.301\n",
      "6 1973-10-01  6150.131\n",
      "7 1974-01-01  6097.258\n",
      "📥 Fetching: Nominal GDP (GDP)\n",
      "        Date  Nominal GDP\n",
      "0 1972-04-01     1266.369\n",
      "1 1972-07-01     1290.566\n",
      "2 1972-10-01     1328.904\n",
      "3 1973-01-01     1377.490\n",
      "4 1973-04-01     1413.887\n",
      "5 1973-07-01     1433.838\n",
      "6 1973-10-01     1476.289\n",
      "7 1974-01-01     1491.209\n",
      "📥 Fetching: Nominal Gross National Product (GNP)\n",
      "        Date  Nominal Gross National Product\n",
      "0 1972-04-01                        1274.485\n",
      "1 1972-07-01                        1299.485\n",
      "2 1972-10-01                        1337.927\n",
      "3 1973-01-01                        1388.160\n",
      "4 1973-04-01                        1425.513\n",
      "5 1973-07-01                        1447.715\n",
      "6 1973-10-01                        1490.591\n",
      "7 1974-01-01                        1508.276\n",
      "📥 Fetching: Industrial Production Index (INDPRO)\n"
     ]
    },
    {
     "name": "stderr",
     "output_type": "stream",
     "text": [
      "C:\\Users\\troyr\\AppData\\Local\\Temp\\ipykernel_4752\\606885162.py:33: FutureWarning: 'Q-DEC' is deprecated and will be removed in a future version, please use 'QE-DEC' instead.\n",
      "  df = df.set_index('Date').resample('Q-DEC').mean().reset_index()\n"
     ]
    },
    {
     "name": "stdout",
     "output_type": "stream",
     "text": [
      "        Date  Industrial Production Index\n",
      "0 1972-03-31                    40.437567\n",
      "1 1972-06-30                    41.204167\n",
      "2 1972-09-30                    41.724233\n",
      "3 1972-12-31                    43.169167\n",
      "4 1973-03-31                    44.406000\n",
      "5 1973-06-30                    44.782467\n",
      "6 1973-09-30                    45.162400\n",
      "7 1973-12-31                    45.842067\n",
      "📥 Fetching: Manufacturing Production Index (IPMAN)\n",
      "        Date  Manufacturing Production Index\n",
      "0 1972-03-31                       36.200233\n",
      "1 1972-06-30                       36.947967\n",
      "2 1972-09-30                       37.455467\n",
      "3 1972-12-31                       38.881800\n",
      "4 1973-03-31                       40.166400\n",
      "5 1973-06-30                       40.549400\n",
      "6 1973-09-30                       40.872767\n",
      "7 1973-12-31                       41.661867\n"
     ]
    },
    {
     "name": "stderr",
     "output_type": "stream",
     "text": [
      "C:\\Users\\troyr\\AppData\\Local\\Temp\\ipykernel_4752\\606885162.py:33: FutureWarning: 'Q-DEC' is deprecated and will be removed in a future version, please use 'QE-DEC' instead.\n",
      "  df = df.set_index('Date').resample('Q-DEC').mean().reset_index()\n"
     ]
    }
   ],
   "source": [
    "# Real Economy Data Fetcher\n",
    "# This script fetches real economy data from the FRED API, processes it, and saves it to CSV files.\n",
    "import pandas as pd\n",
    "from fredapi import Fred\n",
    "import os\n",
    "\n",
    "# Initialize FRED API\n",
    "fred = Fred(api_key=\"306a3b46d80923127981cdabb3c9691f\")\n",
    "\n",
    "# Real Economy Series\n",
    "real_economy_series = {\n",
    "    \"GDPC1\": \"Real GDP\",\n",
    "    \"GDP\": \"Nominal GDP\",\n",
    "    \"GNP\": \"Nominal Gross National Product\",\n",
    "    \"INDPRO\": \"Industrial Production Index\",\n",
    "    \"IPMAN\": \"Manufacturing Production Index\"\n",
    "}\n",
    "\n",
    "# Output folder\n",
    "output_dir = r\"C:\\Users\\troyr\\OneDrive - Self Taught LLC\\PythonDev\\03-projects\\fred-trade-analysis\\data\\raw\\real-economy\"\n",
    "os.makedirs(output_dir, exist_ok=True)\n",
    "\n",
    "# Pull, resample if needed, trim and save\n",
    "for code, label in real_economy_series.items():\n",
    "    print(f\"📥 Fetching: {label} ({code})\")\n",
    "    series = fred.get_series(code)\n",
    "    df = series.reset_index()\n",
    "    df.columns = ['Date', label]\n",
    "    df['Date'] = pd.to_datetime(df['Date'])\n",
    "\n",
    "    # Resample to quarterly if not already\n",
    "    if df['Date'].dt.freq is None or df.shape[0] > 500:\n",
    "        df = df.set_index('Date').resample('Q-DEC').mean().reset_index()\n",
    "\n",
    "    df = df[df['Date'] >= pd.to_datetime(\"1972-03-31\")].reset_index(drop=True)\n",
    "\n",
    "    file_path = os.path.join(output_dir, f\"{code}.csv\")\n",
    "    df.to_csv(file_path, index=False)\n",
    "    print(df.head(8))\n"
   ]
  }
 ],
 "metadata": {
  "kernelspec": {
   "display_name": "fred-trade",
   "language": "python",
   "name": "python3"
  },
  "language_info": {
   "codemirror_mode": {
    "name": "ipython",
    "version": 3
   },
   "file_extension": ".py",
   "mimetype": "text/x-python",
   "name": "python",
   "nbconvert_exporter": "python",
   "pygments_lexer": "ipython3",
   "version": "3.11.11"
  }
 },
 "nbformat": 4,
 "nbformat_minor": 5
}
