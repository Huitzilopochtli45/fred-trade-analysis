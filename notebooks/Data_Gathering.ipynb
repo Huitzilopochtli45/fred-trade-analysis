{
 "cells": [
  {
   "cell_type": "markdown",
   "id": "ae9fb714",
   "metadata": {},
   "source": [
    "# Real-Economy Data Fetcher\n",
    "---------------------------"
   ]
  },
  {
   "cell_type": "code",
   "execution_count": 2,
   "id": "9b2d312b",
   "metadata": {},
   "outputs": [
    {
     "name": "stdout",
     "output_type": "stream",
     "text": [
      "📥 Fetching: Real GDP (GDPC1)\n",
      "        Date  Real GDP\n",
      "0 1972-04-01  5760.470\n",
      "1 1972-07-01  5814.854\n",
      "2 1972-10-01  5912.220\n",
      "3 1973-01-01  6058.544\n",
      "4 1973-04-01  6124.506\n",
      "5 1973-07-01  6092.301\n",
      "6 1973-10-01  6150.131\n",
      "7 1974-01-01  6097.258\n",
      "📥 Fetching: Nominal GDP (GDP)\n",
      "        Date  Nominal GDP\n",
      "0 1972-04-01     1266.369\n",
      "1 1972-07-01     1290.566\n",
      "2 1972-10-01     1328.904\n",
      "3 1973-01-01     1377.490\n",
      "4 1973-04-01     1413.887\n",
      "5 1973-07-01     1433.838\n",
      "6 1973-10-01     1476.289\n",
      "7 1974-01-01     1491.209\n",
      "📥 Fetching: Nominal Gross National Product (GNP)\n",
      "        Date  Nominal Gross National Product\n",
      "0 1972-04-01                        1274.485\n",
      "1 1972-07-01                        1299.485\n",
      "2 1972-10-01                        1337.927\n",
      "3 1973-01-01                        1388.160\n",
      "4 1973-04-01                        1425.513\n",
      "5 1973-07-01                        1447.715\n",
      "6 1973-10-01                        1490.591\n",
      "7 1974-01-01                        1508.276\n",
      "📥 Fetching: Industrial Production Index (INDPRO)\n"
     ]
    },
    {
     "name": "stderr",
     "output_type": "stream",
     "text": [
      "C:\\Users\\troyr\\AppData\\Local\\Temp\\ipykernel_4752\\606885162.py:33: FutureWarning: 'Q-DEC' is deprecated and will be removed in a future version, please use 'QE-DEC' instead.\n",
      "  df = df.set_index('Date').resample('Q-DEC').mean().reset_index()\n"
     ]
    },
    {
     "name": "stdout",
     "output_type": "stream",
     "text": [
      "        Date  Industrial Production Index\n",
      "0 1972-03-31                    40.437567\n",
      "1 1972-06-30                    41.204167\n",
      "2 1972-09-30                    41.724233\n",
      "3 1972-12-31                    43.169167\n",
      "4 1973-03-31                    44.406000\n",
      "5 1973-06-30                    44.782467\n",
      "6 1973-09-30                    45.162400\n",
      "7 1973-12-31                    45.842067\n",
      "📥 Fetching: Manufacturing Production Index (IPMAN)\n",
      "        Date  Manufacturing Production Index\n",
      "0 1972-03-31                       36.200233\n",
      "1 1972-06-30                       36.947967\n",
      "2 1972-09-30                       37.455467\n",
      "3 1972-12-31                       38.881800\n",
      "4 1973-03-31                       40.166400\n",
      "5 1973-06-30                       40.549400\n",
      "6 1973-09-30                       40.872767\n",
      "7 1973-12-31                       41.661867\n"
     ]
    },
    {
     "name": "stderr",
     "output_type": "stream",
     "text": [
      "C:\\Users\\troyr\\AppData\\Local\\Temp\\ipykernel_4752\\606885162.py:33: FutureWarning: 'Q-DEC' is deprecated and will be removed in a future version, please use 'QE-DEC' instead.\n",
      "  df = df.set_index('Date').resample('Q-DEC').mean().reset_index()\n"
     ]
    }
   ],
   "source": [
    "# Real Economy Data Fetcher\n",
    "# This script fetches real economy data from the FRED API, processes it, and saves it to CSV files.\n",
    "import pandas as pd\n",
    "from fredapi import Fred\n",
    "import os\n",
    "\n",
    "# Initialize FRED API\n",
    "fred = Fred(api_key=\"306a3b46d80923127981cdabb3c9691f\")\n",
    "\n",
    "# Real Economy Series\n",
    "real_economy_series = {\n",
    "    \"GDPC1\": \"Real GDP\",\n",
    "    \"GDP\": \"Nominal GDP\",\n",
    "    \"GNP\": \"Nominal Gross National Product\",\n",
    "    \"INDPRO\": \"Industrial Production Index\",\n",
    "    \"IPMAN\": \"Manufacturing Production Index\"\n",
    "}\n",
    "\n",
    "# Output folder\n",
    "output_dir = r\"C:\\Users\\troyr\\OneDrive - Self Taught LLC\\PythonDev\\03-projects\\fred-trade-analysis\\data\\raw\\real-economy\"\n",
    "os.makedirs(output_dir, exist_ok=True)\n",
    "\n",
    "# Pull, resample if needed, trim and save\n",
    "for code, label in real_economy_series.items():\n",
    "    print(f\"📥 Fetching: {label} ({code})\")\n",
    "    series = fred.get_series(code)\n",
    "    df = series.reset_index()\n",
    "    df.columns = ['Date', label]\n",
    "    df['Date'] = pd.to_datetime(df['Date'])\n",
    "\n",
    "    # Resample to quarterly if not already\n",
    "    if df['Date'].dt.freq is None or df.shape[0] > 500:\n",
    "        df = df.set_index('Date').resample('Q-DEC').mean().reset_index()\n",
    "\n",
    "    df = df[df['Date'] >= pd.to_datetime(\"1972-03-31\")].reset_index(drop=True)\n",
    "\n",
    "    file_path = os.path.join(output_dir, f\"{code}.csv\")\n",
    "    df.to_csv(file_path, index=False)\n",
    "    print(df.head(8))\n"
   ]
  },
  {
   "cell_type": "markdown",
   "id": "9e694b4c",
   "metadata": {},
   "source": [
    "# Labor & Inflation Data Fetcher\n",
    "--------------------------------"
   ]
  },
  {
   "cell_type": "code",
   "execution_count": null,
   "id": "76ff5cdc",
   "metadata": {},
   "outputs": [
    {
     "name": "stdout",
     "output_type": "stream",
     "text": [
      "📥 Fetching: Unemployment Rate (UNRATE)\n"
     ]
    },
    {
     "name": "stderr",
     "output_type": "stream",
     "text": [
      "C:\\Users\\troyr\\AppData\\Local\\Temp\\ipykernel_4752\\3485963397.py:29: FutureWarning: 'Q-DEC' is deprecated and will be removed in a future version, please use 'QE-DEC' instead.\n",
      "  df = df.set_index('Date').resample('Q-DEC').mean().reset_index()\n"
     ]
    },
    {
     "name": "stdout",
     "output_type": "stream",
     "text": [
      "        Date  Unemployment Rate\n",
      "0 1972-03-31           5.766667\n",
      "1 1972-06-30           5.700000\n",
      "2 1972-09-30           5.566667\n",
      "3 1972-12-31           5.366667\n",
      "4 1973-03-31           4.933333\n",
      "5 1973-06-30           4.933333\n",
      "6 1973-09-30           4.800000\n",
      "7 1973-12-31           4.766667\n",
      "8 1974-03-31           5.133333\n",
      "9 1974-06-30           5.200000\n",
      "📥 Fetching: Labor Force Participation Rate (CIVPART)\n"
     ]
    },
    {
     "name": "stderr",
     "output_type": "stream",
     "text": [
      "C:\\Users\\troyr\\AppData\\Local\\Temp\\ipykernel_4752\\3485963397.py:29: FutureWarning: 'Q-DEC' is deprecated and will be removed in a future version, please use 'QE-DEC' instead.\n",
      "  df = df.set_index('Date').resample('Q-DEC').mean().reset_index()\n"
     ]
    },
    {
     "name": "stdout",
     "output_type": "stream",
     "text": [
      "        Date  Labor Force Participation Rate\n",
      "0 1972-03-31                       60.300000\n",
      "1 1972-06-30                       60.400000\n",
      "2 1972-09-30                       60.466667\n",
      "3 1972-12-31                       60.366667\n",
      "4 1973-03-31                       60.433333\n",
      "5 1973-06-30                       60.766667\n",
      "6 1973-09-30                       60.800000\n",
      "7 1973-12-31                       61.100000\n",
      "8 1974-03-31                       61.333333\n",
      "9 1974-06-30                       61.166667\n",
      "📥 Fetching: Consumer Price Index (All Urban Consumers) (CPIAUCSL)\n"
     ]
    },
    {
     "name": "stderr",
     "output_type": "stream",
     "text": [
      "C:\\Users\\troyr\\AppData\\Local\\Temp\\ipykernel_4752\\3485963397.py:29: FutureWarning: 'Q-DEC' is deprecated and will be removed in a future version, please use 'QE-DEC' instead.\n",
      "  df = df.set_index('Date').resample('Q-DEC').mean().reset_index()\n"
     ]
    },
    {
     "name": "stdout",
     "output_type": "stream",
     "text": [
      "        Date  Consumer Price Index (All Urban Consumers)\n",
      "0 1972-03-31                                   41.333333\n",
      "1 1972-06-30                                   41.600000\n",
      "2 1972-09-30                                   41.933333\n",
      "3 1972-12-31                                   42.366667\n",
      "4 1973-03-31                                   43.033333\n",
      "5 1973-06-30                                   43.933333\n",
      "6 1973-09-30                                   44.800000\n",
      "7 1973-12-31                                   45.933333\n",
      "8 1974-03-31                                   47.300000\n",
      "9 1974-06-30                                   48.566667\n",
      "📥 Fetching: PCE Price Index (PCEPI)\n",
      "        Date  PCE Price Index\n",
      "0 1972-03-31        21.080333\n",
      "1 1972-06-30        21.202000\n",
      "2 1972-09-30        21.388333\n",
      "3 1972-12-31        21.562667\n",
      "4 1973-03-31        21.822667\n",
      "5 1973-06-30        22.242000\n",
      "6 1973-09-30        22.646667\n",
      "7 1973-12-31        23.110667\n",
      "8 1974-03-31        23.797667\n",
      "9 1974-06-30        24.471667\n"
     ]
    },
    {
     "name": "stderr",
     "output_type": "stream",
     "text": [
      "C:\\Users\\troyr\\AppData\\Local\\Temp\\ipykernel_4752\\3485963397.py:29: FutureWarning: 'Q-DEC' is deprecated and will be removed in a future version, please use 'QE-DEC' instead.\n",
      "  df = df.set_index('Date').resample('Q-DEC').mean().reset_index()\n"
     ]
    }
   ],
   "source": [
    "# Labor and Inflation Data Fetcher\n",
    "import pandas as pd\n",
    "from fredapi import Fred\n",
    "import os\n",
    "\n",
    "# Initialize FRED API\n",
    "fred = Fred(api_key=\"306a3b46d80923127981cdabb3c9691f\")\n",
    "\n",
    "# Labor and inflation FRED series\n",
    "labor_inflation_series = {\n",
    "    \"UNRATE\": \"Unemployment Rate\",\n",
    "    \"CIVPART\": \"Labor Force Participation Rate\",\n",
    "    \"CPIAUCSL\": \"Consumer Price Index (All Urban Consumers)\",\n",
    "    \"PCEPI\": \"PCE Price Index\"\n",
    "}\n",
    "\n",
    "# Output directory\n",
    "output_dir = r\"C:\\Users\\troyr\\OneDrive - Self Taught LLC\\PythonDev\\03-projects\\fred-trade-analysis\\data\\raw\\labor-inflation\"\n",
    "os.makedirs(output_dir, exist_ok=True)\n",
    "\n",
    "# Fetch, resample, trim, and save\n",
    "for code, label in labor_inflation_series.items():\n",
    "    print(f\"📥 Fetching: {label} ({code})\")\n",
    "    series = fred.get_series(code)\n",
    "    df = series.reset_index()\n",
    "    df.columns = ['Date', label]\n",
    "    df['Date'] = pd.to_datetime(df['Date'])\n",
    "\n",
    "    if df['Date'].dt.freq is None or df.shape[0] > 500:\n",
    "        df = df.set_index('Date').resample('Q-DEC').mean().reset_index()\n",
    "\n",
    "    df = df[df['Date'] >= pd.to_datetime(\"1972-03-31\")].reset_index(drop=True)\n",
    "\n",
    "    # Save to file\n",
    "    file_path = os.path.join(output_dir, f\"{code}.csv\")\n",
    "    df.to_csv(file_path, index=False)\n",
    "\n",
    "    # Preview\n",
    "    print(df.head(10))\n"
   ]
  },
  {
   "cell_type": "markdown",
   "id": "4382551f",
   "metadata": {},
   "source": [
    "# Consumption & Savings Data Fetcher\n",
    "---"
   ]
  },
  {
   "cell_type": "code",
   "execution_count": 4,
   "id": "75da70b1",
   "metadata": {},
   "outputs": [
    {
     "name": "stdout",
     "output_type": "stream",
     "text": [
      "📥 Fetching: Real Personal Consumption Expenditures (PCECC96)\n",
      "        Date  Real Personal Consumption Expenditures\n",
      "0 1972-04-01                                3572.842\n",
      "1 1972-07-01                                3627.904\n",
      "2 1972-10-01                                3713.038\n",
      "3 1973-01-01                                3780.829\n",
      "4 1973-04-01                                3779.125\n",
      "5 1973-07-01                                3792.426\n",
      "6 1973-10-01                                3781.115\n",
      "7 1974-01-01                                3747.286\n",
      "8 1974-04-01                                3760.779\n",
      "9 1974-07-01                                3776.934\n",
      "📥 Fetching: Nominal Personal Consumption Expenditures (PCEC)\n",
      "        Date  Nominal Personal Consumption Expenditures\n",
      "0 1972-04-01                                    757.364\n",
      "1 1972-07-01                                    775.799\n",
      "2 1972-10-01                                    800.502\n",
      "3 1973-01-01                                    825.007\n",
      "4 1973-04-01                                    840.527\n",
      "5 1973-07-01                                    858.877\n",
      "6 1973-10-01                                    873.887\n",
      "7 1974-01-01                                    891.868\n",
      "8 1974-04-01                                    920.422\n",
      "9 1974-07-01                                    949.276\n",
      "📥 Fetching: Personal Savings Rate (PSAVERT)\n"
     ]
    },
    {
     "name": "stderr",
     "output_type": "stream",
     "text": [
      "C:\\Users\\troyr\\AppData\\Local\\Temp\\ipykernel_4752\\1574342939.py:30: FutureWarning: 'Q-DEC' is deprecated and will be removed in a future version, please use 'QE-DEC' instead.\n",
      "  df = df.set_index('Date').resample('Q-DEC').mean().reset_index()\n"
     ]
    },
    {
     "name": "stdout",
     "output_type": "stream",
     "text": [
      "        Date  Personal Savings Rate\n",
      "0 1972-03-31              12.366667\n",
      "1 1972-06-30              11.633333\n",
      "2 1972-09-30              11.966667\n",
      "3 1972-12-31              13.433333\n",
      "4 1973-03-31              12.533333\n",
      "5 1973-06-30              13.333333\n",
      "6 1973-09-30              13.400000\n",
      "7 1973-12-31              14.533333\n",
      "8 1974-03-31              13.966667\n",
      "9 1974-06-30              12.900000\n",
      "📥 Fetching: Real Disposable Personal Income (DSPIC96)\n",
      "        Date  Real Disposable Personal Income\n",
      "0 1972-03-31                      4112.533333\n",
      "1 1972-06-30                      4155.233333\n",
      "2 1972-09-30                      4236.000000\n",
      "3 1972-12-31                      4405.800000\n",
      "4 1973-03-31                      4439.200000\n",
      "5 1973-06-30                      4476.666667\n",
      "6 1973-09-30                      4496.900000\n",
      "7 1973-12-31                      4546.066667\n",
      "8 1974-03-31                      4470.833333\n",
      "9 1974-06-30                      4429.133333\n"
     ]
    },
    {
     "name": "stderr",
     "output_type": "stream",
     "text": [
      "C:\\Users\\troyr\\AppData\\Local\\Temp\\ipykernel_4752\\1574342939.py:30: FutureWarning: 'Q-DEC' is deprecated and will be removed in a future version, please use 'QE-DEC' instead.\n",
      "  df = df.set_index('Date').resample('Q-DEC').mean().reset_index()\n"
     ]
    }
   ],
   "source": [
    "# Consumption and Savings Data Fetcher\n",
    "import pandas as pd\n",
    "from fredapi import Fred\n",
    "import os\n",
    "\n",
    "# Initialize FRED API\n",
    "fred = Fred(api_key=\"306a3b46d80923127981cdabb3c9691f\")\n",
    "\n",
    "# Define the series\n",
    "consumption_savings_series = {\n",
    "    \"PCECC96\": \"Real Personal Consumption Expenditures\",\n",
    "    \"PCEC\": \"Nominal Personal Consumption Expenditures\",\n",
    "    \"PSAVERT\": \"Personal Savings Rate\",\n",
    "    \"DSPIC96\": \"Real Disposable Personal Income\"\n",
    "}\n",
    "\n",
    "# Output directory\n",
    "output_dir = r\"C:\\Users\\troyr\\OneDrive - Self Taught LLC\\PythonDev\\03-projects\\fred-trade-analysis\\data\\raw\\consumption-savings\"\n",
    "os.makedirs(output_dir, exist_ok=True)\n",
    "\n",
    "# Pull, resample, and save\n",
    "for code, label in consumption_savings_series.items():\n",
    "    print(f\"📥 Fetching: {label} ({code})\")\n",
    "    series = fred.get_series(code)\n",
    "    df = series.reset_index()\n",
    "    df.columns = ['Date', label]\n",
    "    df['Date'] = pd.to_datetime(df['Date'])\n",
    "\n",
    "    if df['Date'].dt.freq is None or df.shape[0] > 500:\n",
    "        df = df.set_index('Date').resample('Q-DEC').mean().reset_index()\n",
    "\n",
    "    df = df[df['Date'] >= pd.to_datetime(\"1972-03-31\")].reset_index(drop=True)\n",
    "\n",
    "    file_path = os.path.join(output_dir, f\"{code}.csv\")\n",
    "    df.to_csv(file_path, index=False)\n",
    "\n",
    "    print(df.head(10))\n"
   ]
  },
  {
   "cell_type": "markdown",
   "id": "2cd1f44c",
   "metadata": {},
   "source": [
    "# Government Spending and Trade Data Fetcher\n",
    "---"
   ]
  },
  {
   "cell_type": "code",
   "execution_count": 5,
   "id": "f9b4c5fb",
   "metadata": {},
   "outputs": [
    {
     "name": "stdout",
     "output_type": "stream",
     "text": [
      "📥 Fetching: Federal Government Expenditures (FGEXPND)\n",
      "        Date  Federal Government Expenditures\n",
      "0 1972-04-01                          267.560\n",
      "1 1972-07-01                          260.264\n",
      "2 1972-10-01                          285.409\n",
      "3 1973-01-01                          283.042\n",
      "4 1973-04-01                          287.360\n",
      "5 1973-07-01                          286.911\n",
      "6 1973-10-01                          292.909\n",
      "7 1974-01-01                          302.072\n",
      "8 1974-04-01                          314.483\n",
      "9 1974-07-01                          324.454\n",
      "📥 Fetching: Federal Government Receipts (FGRECPT)\n",
      "        Date  Federal Government Receipts\n",
      "0 1972-04-01                      216.471\n",
      "1 1972-07-01                      219.399\n",
      "2 1972-10-01                      227.075\n",
      "3 1973-01-01                      242.522\n",
      "4 1973-04-01                      246.522\n",
      "5 1973-07-01                      249.570\n",
      "6 1973-10-01                      258.372\n",
      "7 1974-01-01                      265.946\n",
      "8 1974-04-01                      276.413\n",
      "9 1974-07-01                      287.468\n",
      "📥 Fetching: Real Exports of Goods and Services (EXPGSC1)\n",
      "        Date  Real Exports of Goods and Services\n",
      "0 1972-04-01                             201.538\n",
      "1 1972-07-01                             213.689\n",
      "2 1972-10-01                             222.725\n",
      "3 1973-01-01                             239.018\n",
      "4 1973-04-01                             250.533\n",
      "5 1973-07-01                             251.377\n",
      "6 1973-10-01                             263.743\n",
      "7 1974-01-01                             267.163\n",
      "8 1974-04-01                             280.191\n",
      "9 1974-07-01                             265.095\n",
      "📥 Fetching: Real Imports of Goods and Services (IMPGSC1)\n",
      "        Date  Real Imports of Goods and Services\n",
      "0 1972-04-01                             284.109\n",
      "1 1972-07-01                             290.022\n",
      "2 1972-10-01                             303.087\n",
      "3 1973-01-01                             317.093\n",
      "4 1973-04-01                             307.953\n",
      "5 1973-07-01                             299.446\n",
      "6 1973-10-01                             301.679\n",
      "7 1974-01-01                             291.445\n",
      "8 1974-04-01                             306.886\n",
      "9 1974-07-01                             301.525\n"
     ]
    }
   ],
   "source": [
    "# Government and Trade Data Fetcher\n",
    "import pandas as pd\n",
    "from fredapi import Fred\n",
    "import os\n",
    "\n",
    "# Initialize FRED API\n",
    "fred = Fred(api_key=\"306a3b46d80923127981cdabb3c9691f\")\n",
    "\n",
    "# Fiscal and trade series\n",
    "fiscal_trade_series = {\n",
    "    \"FGEXPND\": \"Federal Government Expenditures\",\n",
    "    \"FGRECPT\": \"Federal Government Receipts\",\n",
    "    \"EXPGSC1\": \"Real Exports of Goods and Services\",\n",
    "    \"IMPGSC1\": \"Real Imports of Goods and Services\"\n",
    "}\n",
    "\n",
    "# Output directory\n",
    "output_dir = r\"C:\\Users\\troyr\\OneDrive - Self Taught LLC\\PythonDev\\03-projects\\fred-trade-analysis\\data\\raw\\fiscal-trade\"\n",
    "os.makedirs(output_dir, exist_ok=True)\n",
    "\n",
    "# Pull, resample, trim, and save\n",
    "for code, label in fiscal_trade_series.items():\n",
    "    print(f\"📥 Fetching: {label} ({code})\")\n",
    "    series = fred.get_series(code)\n",
    "    df = series.reset_index()\n",
    "    df.columns = ['Date', label]\n",
    "    df['Date'] = pd.to_datetime(df['Date'])\n",
    "\n",
    "    if df['Date'].dt.freq is None or df.shape[0] > 500:\n",
    "        df = df.set_index('Date').resample('Q-DEC').mean().reset_index()\n",
    "\n",
    "    df = df[df['Date'] >= pd.to_datetime(\"1972-03-31\")].reset_index(drop=True)\n",
    "\n",
    "    file_path = os.path.join(output_dir, f\"{code}.csv\")\n",
    "    df.to_csv(file_path, index=False)\n",
    "\n",
    "    print(df.head(10))"
   ]
  },
  {
   "cell_type": "markdown",
   "id": "6590ded7",
   "metadata": {},
   "source": [
    "# Housing and Capacity Data Fetcher\n",
    "---"
   ]
  },
  {
   "cell_type": "code",
   "execution_count": 6,
   "id": "53f57312",
   "metadata": {},
   "outputs": [
    {
     "name": "stdout",
     "output_type": "stream",
     "text": [
      "📥 Fetching: Housing Starts (HOUST)\n"
     ]
    },
    {
     "name": "stderr",
     "output_type": "stream",
     "text": [
      "C:\\Users\\troyr\\AppData\\Local\\Temp\\ipykernel_4752\\794897649.py:29: FutureWarning: 'Q-DEC' is deprecated and will be removed in a future version, please use 'QE-DEC' instead.\n",
      "  df = df.set_index('Date').resample('Q-DEC').mean().reset_index()\n"
     ]
    },
    {
     "name": "stdout",
     "output_type": "stream",
     "text": [
      "        Date  Housing Starts\n",
      "0 1972-03-31     2406.000000\n",
      "1 1972-06-30     2241.333333\n",
      "2 1972-09-30     2371.666667\n",
      "3 1972-12-31     2424.000000\n",
      "4 1973-03-31     2378.333333\n",
      "5 1973-06-30     2139.000000\n",
      "6 1973-09-30     2016.000000\n",
      "7 1973-12-31     1642.333333\n",
      "8 1974-03-31     1586.000000\n",
      "9 1974-06-30     1515.333333\n",
      "📥 Fetching: Building Permits (PERMIT)\n"
     ]
    },
    {
     "name": "stderr",
     "output_type": "stream",
     "text": [
      "C:\\Users\\troyr\\AppData\\Local\\Temp\\ipykernel_4752\\794897649.py:29: FutureWarning: 'Q-DEC' is deprecated and will be removed in a future version, please use 'QE-DEC' instead.\n",
      "  df = df.set_index('Date').resample('Q-DEC').mean().reset_index()\n"
     ]
    },
    {
     "name": "stdout",
     "output_type": "stream",
     "text": [
      "        Date  Building Permits\n",
      "0 1972-03-31       2170.666667\n",
      "1 1972-06-30       2129.666667\n",
      "2 1972-09-30       2283.666667\n",
      "3 1972-12-31       2335.666667\n",
      "4 1973-03-31       2186.333333\n",
      "5 1973-06-30       1963.333333\n",
      "6 1973-09-30       1777.333333\n",
      "7 1973-12-31       1367.000000\n",
      "8 1974-03-31       1377.000000\n",
      "9 1974-06-30       1159.333333\n",
      "📥 Fetching: Capacity Utilization (Total Industry) (TCU)\n",
      "        Date  Capacity Utilization (Total Industry)\n",
      "0 1972-03-31                              83.216267\n",
      "1 1972-06-30                              84.176133\n",
      "2 1972-09-30                              84.573100\n",
      "3 1972-12-31                              86.743467\n",
      "4 1973-03-31                              88.381800\n",
      "5 1973-06-30                              88.231800\n",
      "6 1973-09-30                              88.067767\n",
      "7 1973-12-31                              88.517767\n",
      "8 1974-03-31                              86.927333\n",
      "9 1974-06-30                              86.293567\n"
     ]
    },
    {
     "name": "stderr",
     "output_type": "stream",
     "text": [
      "C:\\Users\\troyr\\AppData\\Local\\Temp\\ipykernel_4752\\794897649.py:29: FutureWarning: 'Q-DEC' is deprecated and will be removed in a future version, please use 'QE-DEC' instead.\n",
      "  df = df.set_index('Date').resample('Q-DEC').mean().reset_index()\n"
     ]
    }
   ],
   "source": [
    "# Housing and Construction Data Fetcher\n",
    "import pandas as pd\n",
    "from fredapi import Fred\n",
    "import os\n",
    "\n",
    "# Initialize FRED API\n",
    "fred = Fred(api_key=\"306a3b46d80923127981cdabb3c9691f\")\n",
    "\n",
    "# Housing and capacity series\n",
    "housing_capacity_series = {\n",
    "    \"HOUST\": \"Housing Starts\",\n",
    "    \"PERMIT\": \"Building Permits\",\n",
    "    \"TCU\": \"Capacity Utilization (Total Industry)\"\n",
    "}\n",
    "\n",
    "# Output folder\n",
    "output_dir = r\"C:\\Users\\troyr\\OneDrive - Self Taught LLC\\PythonDev\\03-projects\\fred-trade-analysis\\data\\raw\\housing-capacity\"\n",
    "os.makedirs(output_dir, exist_ok=True)\n",
    "\n",
    "# Fetch, resample if needed, trim and save\n",
    "for code, label in housing_capacity_series.items():\n",
    "    print(f\"📥 Fetching: {label} ({code})\")\n",
    "    series = fred.get_series(code)\n",
    "    df = series.reset_index()\n",
    "    df.columns = ['Date', label]\n",
    "    df['Date'] = pd.to_datetime(df['Date'])\n",
    "\n",
    "    if df['Date'].dt.freq is None or df.shape[0] > 500:\n",
    "        df = df.set_index('Date').resample('Q-DEC').mean().reset_index()\n",
    "\n",
    "    df = df[df['Date'] >= pd.to_datetime(\"1972-03-31\")].reset_index(drop=True)\n",
    "\n",
    "    file_path = os.path.join(output_dir, f\"{code}.csv\")\n",
    "    df.to_csv(file_path, index=False)\n",
    "\n",
    "    print(df.head(10))"
   ]
  },
  {
   "cell_type": "markdown",
   "id": "b1cc87c6",
   "metadata": {},
   "source": [
    "# Interest Rates Data Fetcher\n",
    "---"
   ]
  },
  {
   "cell_type": "code",
   "execution_count": 7,
   "id": "fb22b2b5",
   "metadata": {},
   "outputs": [
    {
     "name": "stdout",
     "output_type": "stream",
     "text": [
      "📥 Fetching: Effective Federal Funds Rate (FEDFUNDS)\n"
     ]
    },
    {
     "name": "stderr",
     "output_type": "stream",
     "text": [
      "C:\\Users\\troyr\\AppData\\Local\\Temp\\ipykernel_4752\\2089293923.py:28: FutureWarning: 'Q-DEC' is deprecated and will be removed in a future version, please use 'QE-DEC' instead.\n",
      "  df = df.set_index('Date').resample('Q-DEC').mean().reset_index()\n"
     ]
    },
    {
     "name": "stdout",
     "output_type": "stream",
     "text": [
      "        Date  Effective Federal Funds Rate\n",
      "0 1972-03-31                      3.546667\n",
      "1 1972-06-30                      4.300000\n",
      "2 1972-09-30                      4.743333\n",
      "3 1972-12-31                      5.146667\n",
      "4 1973-03-31                      6.536667\n",
      "5 1973-06-30                      7.816667\n",
      "6 1973-09-30                     10.560000\n",
      "7 1973-12-31                      9.996667\n",
      "8 1974-03-31                      9.323333\n",
      "9 1974-06-30                     11.250000\n",
      "📥 Fetching: 10-Year Treasury Constant Maturity Rate (GS10)\n",
      "        Date  10-Year Treasury Constant Maturity Rate\n",
      "0 1972-03-31                                 6.033333\n",
      "1 1972-06-30                                 6.143333\n",
      "2 1972-09-30                                 6.290000\n",
      "3 1972-12-31                                 6.373333\n",
      "4 1973-03-31                                 6.603333\n",
      "5 1973-06-30                                 6.806667\n",
      "6 1973-09-30                                 7.206667\n",
      "7 1973-12-31                                 6.753333\n",
      "8 1974-03-31                                 7.053333\n",
      "9 1974-06-30                                 7.543333\n"
     ]
    },
    {
     "name": "stderr",
     "output_type": "stream",
     "text": [
      "C:\\Users\\troyr\\AppData\\Local\\Temp\\ipykernel_4752\\2089293923.py:28: FutureWarning: 'Q-DEC' is deprecated and will be removed in a future version, please use 'QE-DEC' instead.\n",
      "  df = df.set_index('Date').resample('Q-DEC').mean().reset_index()\n"
     ]
    }
   ],
   "source": [
    "# Interest Rates Data Fetcher\n",
    "import pandas as pd\n",
    "from fredapi import Fred\n",
    "import os\n",
    "\n",
    "# Initialize FRED\n",
    "fred = Fred(api_key=\"306a3b46d80923127981cdabb3c9691f\")\n",
    "\n",
    "# Interest rate series\n",
    "interest_rate_series = {\n",
    "    \"FEDFUNDS\": \"Effective Federal Funds Rate\",\n",
    "    \"GS10\": \"10-Year Treasury Constant Maturity Rate\"\n",
    "}\n",
    "\n",
    "# Output folder\n",
    "output_dir = r\"C:\\Users\\troyr\\OneDrive - Self Taught LLC\\PythonDev\\03-projects\\fred-trade-analysis\\data\\raw\\interest-rates\"\n",
    "os.makedirs(output_dir, exist_ok=True)\n",
    "\n",
    "# Fetch, resample, trim, and save\n",
    "for code, label in interest_rate_series.items():\n",
    "    print(f\"📥 Fetching: {label} ({code})\")\n",
    "    series = fred.get_series(code)\n",
    "    df = series.reset_index()\n",
    "    df.columns = ['Date', label]\n",
    "    df['Date'] = pd.to_datetime(df['Date'])\n",
    "\n",
    "    if df['Date'].dt.freq is None or df.shape[0] > 500:\n",
    "        df = df.set_index('Date').resample('Q-DEC').mean().reset_index()\n",
    "\n",
    "    df = df[df['Date'] >= pd.to_datetime(\"1972-03-31\")].reset_index(drop=True)\n",
    "\n",
    "    file_path = os.path.join(output_dir, f\"{code}.csv\")\n",
    "    df.to_csv(file_path, index=False)\n",
    "\n",
    "    print(df.head(10))\n"
   ]
  }
 ],
 "metadata": {
  "kernelspec": {
   "display_name": "fred-trade",
   "language": "python",
   "name": "python3"
  },
  "language_info": {
   "codemirror_mode": {
    "name": "ipython",
    "version": 3
   },
   "file_extension": ".py",
   "mimetype": "text/x-python",
   "name": "python",
   "nbconvert_exporter": "python",
   "pygments_lexer": "ipython3",
   "version": "3.11.11"
  }
 },
 "nbformat": 4,
 "nbformat_minor": 5
}
