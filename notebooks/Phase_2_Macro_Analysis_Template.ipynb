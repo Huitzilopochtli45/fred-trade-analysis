{
 "cells": [
  {
   "cell_type": "markdown",
   "id": "40946137",
   "metadata": {},
   "source": [
    "# 📘 Phase 2: Macro Divergence and Trade Dynamics Analysis"
   ]
  },
  {
   "cell_type": "markdown",
   "id": "ec6a0a42",
   "metadata": {},
   "source": [
    "\n",
    "This notebook explores macroeconomic relationships between:\n",
    "- **GDP divergence (Nominal vs. Real)**\n",
    "- **Net export growth or change**\n",
    "- **Other macroeconomic indicators** such as fiscal balance, inflation, consumption, savings, and interest rates\n",
    "\n",
    "We will evaluate correlations, temporal relationships, and structural shifts across historical regimes.\n"
   ]
  },
  {
   "cell_type": "markdown",
   "id": "ccd67884",
   "metadata": {},
   "source": [
    "## 🔧 Step 1: Setup and FRED API Access"
   ]
  },
  {
   "cell_type": "code",
   "execution_count": 14,
   "id": "649e94eb",
   "metadata": {},
   "outputs": [],
   "source": [
    "\n",
    "from fredapi import Fred\n",
    "import pandas as pd\n",
    "\n",
    "# Initialize FRED connection (insert your key)\n",
    "fred = Fred(api_key=\"306a3b46d80923127981cdabb3c9691f\")\n"
   ]
  },
  {
   "cell_type": "markdown",
   "id": "7924ce73",
   "metadata": {},
   "source": [
    "## 📦 Step 2: Download Core Macroeconomic Series"
   ]
  },
  {
   "cell_type": "code",
   "execution_count": 15,
   "id": "9be5857b",
   "metadata": {},
   "outputs": [
    {
     "name": "stdout",
     "output_type": "stream",
     "text": [
      "🔹 Downloading: Nominal GDP (GDPCA)\n",
      "Preview:\n",
      "        Date     GDPCA\n",
      "0 1929-01-01  1191.124\n",
      "1 1930-01-01  1089.785\n",
      "Type: float64 | Missing: 0 values\n",
      "------------------------------------------------------------\n",
      "🔹 Downloading: Real GDP (GDPC1)\n",
      "Preview:\n",
      "        Date     GDPC1\n",
      "0 1947-01-01  2182.681\n",
      "1 1947-04-01  2176.892\n",
      "Type: float64 | Missing: 0 values\n",
      "------------------------------------------------------------\n",
      "🔹 Downloading: Gross National Product (GNPCA)\n",
      "Preview:\n",
      "        Date     GNPCA\n",
      "0 1929-01-01  1202.659\n",
      "1 1930-01-01  1100.670\n",
      "Type: float64 | Missing: 0 values\n",
      "------------------------------------------------------------\n",
      "🔹 Downloading: Exports of Goods and Services (EXPGSCA)\n",
      "Preview:\n",
      "        Date  EXPGSCA\n",
      "0 1929-01-01   41.725\n",
      "1 1930-01-01   34.486\n",
      "Type: float64 | Missing: 0 values\n",
      "------------------------------------------------------------\n",
      "🔹 Downloading: Imports of Goods and Services (IMPGSCA)\n",
      "Preview:\n",
      "        Date  IMPGSCA\n",
      "0 1929-01-01   51.857\n",
      "1 1930-01-01   45.108\n",
      "Type: float64 | Missing: 0 values\n",
      "------------------------------------------------------------\n",
      "🔹 Downloading: Federal Outlays (FYONGDA188S)\n",
      "Preview:\n",
      "        Date  FYONGDA188S\n",
      "0 1929-01-01      2.99074\n",
      "1 1930-01-01      3.60243\n",
      "Type: float64 | Missing: 0 values\n",
      "------------------------------------------------------------\n",
      "🔹 Downloading: Federal Receipts (FYFRGDA188S)\n",
      "Preview:\n",
      "        Date  FYFRGDA188S\n",
      "0 1929-01-01      3.69371\n",
      "1 1930-01-01      4.40321\n",
      "Type: float64 | Missing: 0 values\n",
      "------------------------------------------------------------\n",
      "🔹 Downloading: Effective Federal Funds Rate (FEDFUNDS)\n",
      "Preview:\n",
      "        Date  FEDFUNDS\n",
      "0 1954-07-01      0.80\n",
      "1 1954-08-01      1.22\n",
      "Type: float64 | Missing: 0 values\n",
      "------------------------------------------------------------\n",
      "🔹 Downloading: 10-Year Treasury Constant Maturity Rate (GS10)\n",
      "Preview:\n",
      "        Date  GS10\n",
      "0 1953-04-01  2.83\n",
      "1 1953-05-01  3.05\n",
      "Type: float64 | Missing: 0 values\n",
      "------------------------------------------------------------\n",
      "🔹 Downloading: Consumer Price Index (CPI-U) (CPIAUCSL)\n",
      "Preview:\n",
      "        Date  CPIAUCSL\n",
      "0 1947-01-01     21.48\n",
      "1 1947-02-01     21.62\n",
      "Type: float64 | Missing: 0 values\n",
      "------------------------------------------------------------\n",
      "🔹 Downloading: PCE Price Index (PCEPI)\n",
      "Preview:\n",
      "        Date   PCEPI\n",
      "0 1959-01-01  15.164\n",
      "1 1959-02-01  15.179\n",
      "Type: float64 | Missing: 0 values\n",
      "------------------------------------------------------------\n",
      "🔹 Downloading: Personal Savings Rate (PSAVERT)\n",
      "Preview:\n",
      "        Date  PSAVERT\n",
      "0 1959-01-01     11.3\n",
      "1 1959-02-01     10.6\n",
      "Type: float64 | Missing: 0 values\n",
      "------------------------------------------------------------\n",
      "🔹 Downloading: Nominal Personal Consumption Expenditures (PCEC)\n",
      "Preview:\n",
      "        Date  PCEC\n",
      "0 1939-01-01   NaN\n",
      "1 1939-04-01   NaN\n",
      "Type: float64 | Missing: 32 values\n",
      "------------------------------------------------------------\n",
      "🔹 Downloading: Real Personal Consumption Expenditures (PCECC96)\n",
      "Preview:\n",
      "        Date   PCECC96\n",
      "0 1947-01-01  1351.397\n",
      "1 1947-04-01  1373.880\n",
      "Type: float64 | Missing: 0 values\n",
      "------------------------------------------------------------\n",
      "✅ All series downloaded and inspected.\n"
     ]
    }
   ],
   "source": [
    "# Step 2: Define and download macroeconomic series\n",
    "\n",
    "# Define FRED series\n",
    "series_ids = {\n",
    "    \"GDPCA\": \"Nominal GDP\",\n",
    "    \"GDPC1\": \"Real GDP\",\n",
    "    \"GNPCA\": \"Gross National Product\",\n",
    "    \"EXPGSCA\": \"Exports of Goods and Services\",\n",
    "    \"IMPGSCA\": \"Imports of Goods and Services\",\n",
    "    \"FYONGDA188S\": \"Federal Outlays\",\n",
    "    \"FYFRGDA188S\": \"Federal Receipts\",\n",
    "    \"FEDFUNDS\": \"Effective Federal Funds Rate\",\n",
    "    \"GS10\": \"10-Year Treasury Constant Maturity Rate\",\n",
    "    \"CPIAUCSL\": \"Consumer Price Index (CPI-U)\",\n",
    "    \"PCEPI\": \"PCE Price Index\",\n",
    "    \"PSAVERT\": \"Personal Savings Rate\",\n",
    "    \"PCEC\": \"Nominal Personal Consumption Expenditures\",\n",
    "    \"PCECC96\": \"Real Personal Consumption Expenditures\"\n",
    "}\n",
    "\n",
    "# Create dictionary to store time series\n",
    "data = {}\n",
    "\n",
    "# Download and inspect\n",
    "for series_id, label in series_ids.items():\n",
    "    print(f\"🔹 Downloading: {label} ({series_id})\")\n",
    "    series = fred.get_series(series_id)\n",
    "    df = series.reset_index()\n",
    "    df.columns = ['Date', series_id]\n",
    "    df['Date'] = pd.to_datetime(df['Date'])\n",
    "    data[series_id] = df\n",
    "\n",
    "    # Inspection\n",
    "    print(\"Preview:\")\n",
    "    print(df.head(2))\n",
    "    print(f\"Type: {df[series_id].dtype} | Missing: {df[series_id].isna().sum()} values\")\n",
    "    print(\"-\" * 60)\n",
    "\n",
    "print(\"✅ All series downloaded and inspected.\")"
   ]
  },
  {
   "cell_type": "code",
   "execution_count": 16,
   "id": "13d07531",
   "metadata": {},
   "outputs": [
    {
     "name": "stdout",
     "output_type": "stream",
     "text": [
      "✅ All series saved to: C:\\Users\\troyr\\OneDrive - Self Taught LLC\\PythonDev\\03-projects\\fred-trade-analysis\\data\\fred_series_master.xlsx\n"
     ]
    }
   ],
   "source": [
    "import os\n",
    "\n",
    "# Output path (update if needed)\n",
    "output_path = r\"C:\\Users\\troyr\\OneDrive - Self Taught LLC\\PythonDev\\03-projects\\fred-trade-analysis\\data\\fred_series_master.xlsx\"\n",
    "\n",
    "# Save all series into one Excel file with tabs\n",
    "with pd.ExcelWriter(output_path, engine='openpyxl') as writer:\n",
    "    for series_id, df in data.items():\n",
    "        # Limit sheet names to 31 characters\n",
    "        sheet_name = series_id if len(series_id) <= 31 else series_id[:28] + \"...\"\n",
    "        df.to_excel(writer, sheet_name=sheet_name, index=False)\n",
    "\n",
    "print(f\"✅ All series saved to: {output_path}\")\n"
   ]
  },
  {
   "cell_type": "code",
   "execution_count": 17,
   "id": "252256fe",
   "metadata": {},
   "outputs": [
    {
     "name": "stdout",
     "output_type": "stream",
     "text": [
      "✅ Sheet tabs found:\n",
      "['GDPCA', 'GDPC1', 'GNPCA', 'EXPGSCA', 'IMPGSCA', 'FYONGDA188S', 'FYFRGDA188S', 'FEDFUNDS', 'GS10', 'CPIAUCSL', 'PCEPI', 'PSAVERT', 'PCEC', 'PCECC96']\n",
      "('Date', 'GDPCA')\n",
      "(datetime.datetime(1929, 1, 1, 0, 0), 1191.124)\n",
      "(datetime.datetime(1930, 1, 1, 0, 0), 1089.785)\n",
      "(datetime.datetime(1931, 1, 1, 0, 0), 1019.977)\n",
      "(datetime.datetime(1932, 1, 1, 0, 0), 888.414)\n"
     ]
    }
   ],
   "source": [
    "from openpyxl import load_workbook\n",
    "\n",
    "# Load the workbook\n",
    "wb = load_workbook(r\"C:\\Users\\troyr\\OneDrive - Self Taught LLC\\PythonDev\\03-projects\\fred-trade-analysis\\data\\fred_series_master.xlsx\")\n",
    "\n",
    "# List all sheet names\n",
    "print(\"✅ Sheet tabs found:\")\n",
    "print(wb.sheetnames)\n",
    "\n",
    "# Preview first few values from one sheet (e.g., GDPCA)\n",
    "ws = wb['GDPCA']\n",
    "for row in ws.iter_rows(min_row=1, max_row=5, values_only=True):\n",
    "    print(row)\n"
   ]
  },
  {
   "cell_type": "markdown",
   "id": "5f38ea4f",
   "metadata": {},
   "source": [
    "## 🔁 Step 3: Preprocess, Merge and Align All Series"
   ]
  },
  {
   "cell_type": "markdown",
   "id": "278b6584",
   "metadata": {},
   "source": [
    "## 📈 Step 4: Compute Growth Rates, Divergence, Deficits"
   ]
  },
  {
   "cell_type": "code",
   "execution_count": 18,
   "id": "4751ca88",
   "metadata": {},
   "outputs": [],
   "source": [
    "# Example: Compute Net Exports and GDP Divergence"
   ]
  },
  {
   "cell_type": "markdown",
   "id": "0500f7f8",
   "metadata": {},
   "source": [
    "## 📊 Step 5: Run Correlations, Segment by Regime, Visualize"
   ]
  },
  {
   "cell_type": "code",
   "execution_count": 19,
   "id": "9b741415",
   "metadata": {},
   "outputs": [],
   "source": [
    "# Add your correlation analysis and plots here"
   ]
  },
  {
   "cell_type": "markdown",
   "id": "328da067",
   "metadata": {},
   "source": [
    "## 📌 Step 6: Summary Insights and Findings"
   ]
  }
 ],
 "metadata": {
  "kernelspec": {
   "display_name": "fred-trade",
   "language": "python",
   "name": "python3"
  },
  "language_info": {
   "codemirror_mode": {
    "name": "ipython",
    "version": 3
   },
   "file_extension": ".py",
   "mimetype": "text/x-python",
   "name": "python",
   "nbconvert_exporter": "python",
   "pygments_lexer": "ipython3",
   "version": "3.11.11"
  }
 },
 "nbformat": 4,
 "nbformat_minor": 5
}
